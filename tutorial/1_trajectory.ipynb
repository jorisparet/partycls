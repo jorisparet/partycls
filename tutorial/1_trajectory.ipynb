{
 "cells": [
  {
   "cell_type": "markdown",
   "metadata": {},
   "source": [
    "# Trajectories\n",
    "--------------------\n",
    "\n",
    "As a first look at the code, this notebook shows the main procedures and features to deal with trajectories: reading, manipulating, customizing.\n",
    "\n",
    "## Opening and handling a trajectory\n",
    "----------------------------------------------\n",
    "\n",
    "A trajectory file can directly be read using the `Trajectory` class. It only requires a path to the file, and some additional arguments (`fmt`, `backend`, `first`, `last`, `step`) that will be detailed later.\n",
    "\n",
    "Let's open our first trajectory file:"
   ]
  },
  {
   "cell_type": "code",
   "execution_count": 1,
   "metadata": {},
   "outputs": [],
   "source": [
    "from pysc import Trajectory\n",
    "\n",
    "traj = Trajectory('../data/kalj_N150.xyz')"
   ]
  },
  {
   "cell_type": "markdown",
   "metadata": {},
   "source": [
    "A `Trajectory` object is iterable, and is composed of `System` objects (*i.e.* frames)."
   ]
  },
  {
   "cell_type": "code",
   "execution_count": 2,
   "metadata": {},
   "outputs": [
    {
     "name": "stdout",
     "output_type": "stream",
     "text": [
      "101\n"
     ]
    }
   ],
   "source": [
    "# Number of frames in the trajectory\n",
    "print(len(traj))"
   ]
  },
  {
   "cell_type": "markdown",
   "metadata": {},
   "source": [
    "The `first`, `last` and `step` parameters allow to slice the trajectory to select a subset of the frames:\n",
    "* `first` is the index of the first frame to read (default is `0`) ;\n",
    "* `last` is the index of the last frame to read (default is `None`, meaning it will read up to the last frame) ;\n",
    "* `step` is the increment between two consecutive frames to read (default is `1`, meaning that every frame is read). Setting `step=2` means that every 2 frames only will be read ;\n",
    "\n",
    "Let's have a look at the first frame:"
   ]
  },
  {
   "cell_type": "code",
   "execution_count": 3,
   "metadata": {},
   "outputs": [
    {
     "name": "stdout",
     "output_type": "stream",
     "text": [
      "System(number_of_particles=150, species=['A' 'B'], chemical_fractions=[0.8 0.2], cell=[5. 5. 5.])\n"
     ]
    }
   ],
   "source": [
    "print(traj[0])"
   ]
  },
  {
   "cell_type": "markdown",
   "metadata": {},
   "source": [
    "This tells us about the main features of the system. In particular, a `System` is composed of a cell (*i.e.* simulation box) that must be **rectangular**."
   ]
  },
  {
   "cell_type": "code",
   "execution_count": 4,
   "metadata": {},
   "outputs": [
    {
     "name": "stdout",
     "output_type": "stream",
     "text": [
      "Cell(side=[5. 5. 5.], volume=125.0)\n"
     ]
    }
   ],
   "source": [
    "print(traj[0].cell)"
   ]
  },
  {
   "cell_type": "markdown",
   "metadata": {},
   "source": [
    "The code accepts bidimensional and tridimensional systems. The spatial dimension is guessed by the number of sides the cell has in the input file.\n",
    "\n",
    "A `System` is also composed of particles, accessible via the iterable`particle` attribute:"
   ]
  },
  {
   "cell_type": "code",
   "execution_count": 5,
   "metadata": {},
   "outputs": [
    {
     "name": "stdout",
     "output_type": "stream",
     "text": [
      "Particle(position=[ 0.819926 -1.760086  0.36845 ], species=A, label=-1, index=140600789906488, species_id=1)\n"
     ]
    }
   ],
   "source": [
    "print(traj[0].particle[0])"
   ]
  },
  {
   "cell_type": "markdown",
   "metadata": {},
   "source": [
    "Finally, a particle has several attributes: \n",
    "- a position ; \n",
    "- a type, or *species* ;\n",
    "- a label, which is the index of the cluster that particle belongs to. Its default value is `-1` but it is automatically assigned after a clustering ;\n",
    "- an index, which is a unique integer value to identify the particle ;"
   ]
  },
  {
   "cell_type": "code",
   "execution_count": 6,
   "metadata": {},
   "outputs": [
    {
     "name": "stdout",
     "output_type": "stream",
     "text": [
      "Position : [ 0.819926 -1.760086  0.36845 ]\n",
      "Species : A\n",
      "Label : -1\n",
      "Index : 140600789906488\n"
     ]
    }
   ],
   "source": [
    "p = traj[0].particle[0]\n",
    "\n",
    "print('Position :', p.position)\n",
    "print('Species :', p.species)\n",
    "print('Label :', p.label)\n",
    "print('Index :', p.index)"
   ]
  },
  {
   "cell_type": "markdown",
   "metadata": {},
   "source": [
    "An arbitrary property can be given to a particle, either by the user or when reading a trajectory file that contains additional properties."
   ]
  },
  {
   "cell_type": "code",
   "execution_count": 7,
   "metadata": {},
   "outputs": [
    {
     "name": "stdout",
     "output_type": "stream",
     "text": [
      "Particle(position=[ 0.819926 -1.760086  0.36845 ], species=A, label=-1, index=140600789906488, species_id=1, mass=0.5)\n"
     ]
    }
   ],
   "source": [
    "p.mass = 0.5\n",
    "print(p)"
   ]
  },
  {
   "cell_type": "markdown",
   "metadata": {},
   "source": [
    "All these properties can be accessed via the method `dump`, either from a `System` or a `Trajectory`. This will return a numpy array:"
   ]
  },
  {
   "cell_type": "code",
   "execution_count": 8,
   "metadata": {},
   "outputs": [
    {
     "name": "stdout",
     "output_type": "stream",
     "text": [
      "[[ 0.819926 -1.760086  0.36845 ]\n",
      " [ 0.29098   1.24579  -2.495344]\n",
      " [ 2.484607  0.35245   1.371003]\n",
      " [-1.02062  -1.927986  0.663132]\n",
      " [-0.816276  2.062004  0.421107]]\n"
     ]
    }
   ],
   "source": [
    "# Positions for the first frame and the 5 first particles\n",
    "pos_0 = traj[0].dump('position')\n",
    "print(pos_0[0:5])"
   ]
  },
  {
   "cell_type": "markdown",
   "metadata": {},
   "source": [
    "This method accepts aliases for common particle properties, such as the position of the species:"
   ]
  },
  {
   "cell_type": "code",
   "execution_count": 9,
   "metadata": {},
   "outputs": [
    {
     "name": "stdout",
     "output_type": "stream",
     "text": [
      "[[ 0.819926 -1.760086  0.36845 ]\n",
      " [ 0.29098   1.24579  -2.495344]\n",
      " [ 2.484607  0.35245   1.371003]\n",
      " [-1.02062  -1.927986  0.663132]\n",
      " [-0.816276  2.062004  0.421107]]\n",
      "['A' 'A' 'A' 'A' 'A']\n"
     ]
    }
   ],
   "source": [
    "pos_0 = traj[0].dump('pos')\n",
    "spe_0 = traj[0].dump('spe')\n",
    "\n",
    "print(pos_0[0:5])\n",
    "print(spe_0[0:5])"
   ]
  },
  {
   "cell_type": "markdown",
   "metadata": {},
   "source": [
    "However, any other additional particle property should be accessed using the following syntax:\n",
    "\n",
    "`dump('particle.property')`\n",
    "\n",
    "where `property` is the name of the corresponding particle property, e.g. `particle.mass`, `particle.radius`, etc. Obviously, this property must be defined for **all** the particles (not the case here) for the  `dump` method to work.\n",
    "\n",
    "Finally, some properties of our `System`:"
   ]
  },
  {
   "cell_type": "code",
   "execution_count": 10,
   "metadata": {},
   "outputs": [
    {
     "name": "stdout",
     "output_type": "stream",
     "text": [
      "Number of spatial dimensions : 3\n",
      "Number of particles : 150\n",
      "Density : 1.2\n",
      "Distinct species : ['A' 'B']\n",
      "Chemical fractions : [0.8 0.2]\n",
      "Pairs of species : [('A', 'A'), ('A', 'B'), ('B', 'A'), ('B', 'B')]\n",
      "Pairs of species ID : [(1, 1), (1, 2), (2, 1), (2, 2)]\n"
     ]
    }
   ],
   "source": [
    "sys = traj[0]\n",
    "\n",
    "print('Number of spatial dimensions :', sys.number_of_dimensions)\n",
    "print('Number of particles :', len(sys.particle))\n",
    "print('Density :', sys.density)\n",
    "print('Distinct species :', sys.distinct_species)\n",
    "print('Chemical fractions :', sys.chemical_fractions)\n",
    "print('Pairs of species :', sys.pairs_of_species)\n",
    "print('Pairs of species ID :', sys.pairs_of_species_id)"
   ]
  },
  {
   "cell_type": "markdown",
   "metadata": {},
   "source": [
    "A special emphasis on the very last property, `pairs_of_species_id`: this is a standardization of all the species in the trajectory, from a litteral name or symbol to an integer value. Here, for example, we have:\n",
    "- `\"A\"` --> `1`\n",
    "- `\"B\"` --> `2`\n",
    "\n",
    "In more complex cases, *e.g.* having atomic symbols such as `\"Si\"`, `\"C\"`, `\"O\"`, etc., this standardization can come in handy."
   ]
  },
  {
   "cell_type": "markdown",
   "metadata": {},
   "source": [
    "## Dealing with different trajectory formats\n",
    "-----------------------------------------------------\n",
    "\n",
    "Natively, the code only reads/write standard [XYZ](https://en.wikipedia.org/wiki/XYZ_file_format) trajectories (with a `cell` attribute in the comment line) and [RUMD](http://rumd.org/) trajectories:"
   ]
  },
  {
   "cell_type": "code",
   "execution_count": 11,
   "metadata": {},
   "outputs": [
    {
     "name": "stdout",
     "output_type": "stream",
     "text": [
      "Trajectory(filename=\"../data/kalj_N150.xyz\", number_of_frames=101)\n",
      "Trajectory(filename=\"../data/kalj_N256_rho1.185_rumd.xyz.gz\", number_of_frames=1)\n"
     ]
    }
   ],
   "source": [
    "# Open a XYZ trajectory\n",
    "#  default value for `fmt` is \"xyz\"\n",
    "traj_xyz = Trajectory('../data/kalj_N150.xyz', fmt='xyz')\n",
    "print(traj_xyz)\n",
    "\n",
    "# Open a RUMD trajectory\n",
    "traj_rumd = Trajectory('../data/kalj_N256_rho1.185_rumd.xyz.gz', fmt='rumd')\n",
    "print(traj_rumd)"
   ]
  },
  {
   "cell_type": "markdown",
   "metadata": {},
   "source": [
    "However, it is possible to rely on external packages to read more formats such as [LAMMPS](https://lammps.sandia.gov/), [GROMACS](https://www.gromacs.org/), etc.\n",
    "\n",
    "These two external packages are:\n",
    "* [atooms](https://framagit.org/atooms/atooms), a Python framework for simulations of interacting particles ;\n",
    "* [MDTraj](https://www.mdtraj.org/1.9.5/index.html), a Python library that allows users to manipulate molecular dynamics trajectories ;\n",
    "\n",
    "With these dependencies properly installed in the Python environment, it is possible to use them as backend when creating an instance of `Trajectory`:"
   ]
  },
  {
   "cell_type": "code",
   "execution_count": 12,
   "metadata": {},
   "outputs": [
    {
     "name": "stdout",
     "output_type": "stream",
     "text": [
      "Number of frames : 6\n",
      "System(number_of_particles=256, species=['1'], chemical_fractions=[1.], cell=[6.3496 6.3496 6.3496])\n"
     ]
    }
   ],
   "source": [
    "# Open a LAMMPS trajectory using atooms\n",
    "traj = Trajectory('../data/lj_N256_rho1.0.atom', \n",
    "                  fmt='lammps', backend='atooms')\n",
    "\n",
    "print('Number of frames :', len(traj))\n",
    "print(traj[0])"
   ]
  },
  {
   "cell_type": "markdown",
   "metadata": {},
   "source": [
    "When using `backend=\"atooms\"`, it is **absolutely essential** to set the `fmt` parameter to the right value for the appropriate parser to be selected, indepedent of the file extension.\n",
    "\n",
    "When using `backend=\"mdtraj\"`, however, the file extension is used to determine the correct format. The `fmt` parameter can thus be ignored:"
   ]
  },
  {
   "cell_type": "code",
   "execution_count": 13,
   "metadata": {},
   "outputs": [
    {
     "name": "stdout",
     "output_type": "stream",
     "text": [
      "Number of frames : 501\n",
      "System(number_of_particles=22, species=['C' 'H' 'N' 'O'], chemical_fractions=[0.27272727 0.54545455 0.09090909 0.09090909], cell=[1. 1. 1.])\n"
     ]
    }
   ],
   "source": [
    "# Open a PDB trajectory using MDTraj\n",
    "traj = Trajectory('../data/frame0.pdb', backend='mdtraj')\n",
    "\n",
    "print('Number of frames :', len(traj))\n",
    "print(traj[0])"
   ]
  },
  {
   "cell_type": "markdown",
   "metadata": {},
   "source": [
    "## Dealing with additional particle properties\n",
    "--------------------------------------------------------\n",
    "\n",
    "Some trajectory formats may contain additional particle properties (mass, radius, etc.). It is possible to read these properties from the file using the parameter `additional_fields` when creating an instance of `Trajectory`.\n",
    "\n",
    "Let's consider a simple XYZ trajectory file called `traj_with_masses.xyz` with 2 frames and only 3 particles, as follows:\n",
    "\n",
    "`\n",
    "3\n",
    "columns:id,pos,mass cell:1.0,1.0,1.0\n",
    "A 0.1 0.0 0.0 0.5\n",
    "B 0.0 0.1 0.0 0.25\n",
    "B 0.0 0.0 0.1 0.25\n",
    "3\n",
    "columns:id,pos,mass cell:1.0,1.0,1.0\n",
    "A 0.2 0.0 0.0 0.5\n",
    "B 0.0 0.2 0.0 0.25\n",
    "B 0.0 0.0 0.2 0.25\n",
    "`\n",
    "\n",
    "As long as the property is specified in the header, it can be read when opening the trajectory:"
   ]
  },
  {
   "cell_type": "code",
   "execution_count": 14,
   "metadata": {},
   "outputs": [
    {
     "name": "stdout",
     "output_type": "stream",
     "text": [
      "Particle(position=[0.1 0.  0. ], species=A, label=-1, index=140600074187776, mass=0.5, species_id=1)\n",
      "[array([0.5 , 0.25, 0.25]), array([0.5 , 0.25, 0.25])]\n"
     ]
    }
   ],
   "source": [
    "# Specifying an additional field\n",
    "traj = Trajectory('../data/traj_with_masses.xyz', \n",
    "                  additional_fields=['mass'])\n",
    "\n",
    "print(traj[0].particle[0])\n",
    "print(traj.dump('particle.mass'))"
   ]
  },
  {
   "cell_type": "markdown",
   "metadata": {},
   "source": [
    "**Important:**\n",
    "\n",
    "Not all trajectory formats and backends support additional fields.\n",
    "\n",
    "When reading, the `additional_fields` parameter may then be ignored (only positions and species will be read). The same applies when writing a trajectory.\n",
    "\n",
    "On that regard, the XYZ format is probably the most flexible, being natively supported by the code."
   ]
  },
  {
   "cell_type": "markdown",
   "metadata": {},
   "source": [
    "## Setting or modifying a particle property\n",
    "-----------------------------------------------------"
   ]
  },
  {
   "cell_type": "markdown",
   "metadata": {},
   "source": [
    "The method `set_property` allows to set or change a particle property trajectory-wide, for all particles or for a specific subset. This property can be either a scalar value, in which case it will be set to all the particles in the subset:"
   ]
  },
  {
   "cell_type": "code",
   "execution_count": 15,
   "metadata": {},
   "outputs": [
    {
     "name": "stdout",
     "output_type": "stream",
     "text": [
      "[array([0.5 , 0.25, 0.25]), array([0.5 , 0.25, 0.25])]\n",
      "[array([1., 1., 1.]), array([1., 1., 1.])]\n",
      "[array([1.  , 0.75, 0.75]), array([1.  , 0.75, 0.75])]\n"
     ]
    }
   ],
   "source": [
    "traj = Trajectory('../data/traj_with_masses.xyz', \n",
    "                  additional_fields=['mass'])\n",
    "\n",
    "# Current `mass` property\n",
    "print(traj.dump('particle.mass'))\n",
    "\n",
    "# Change it for all the particles\n",
    "traj.set_property('mass', 1.0)\n",
    "print(traj.dump('particle.mass'))\n",
    "\n",
    "# Change it for a given subset\n",
    "traj.set_property('mass', 0.75, subset=\"species == 'B'\")\n",
    "print(traj.dump('particle.mass'))"
   ]
  },
  {
   "cell_type": "markdown",
   "metadata": {},
   "source": [
    "The property can also be a `list` or a `numpy.ndarray`. This is convenient if this property is *e.g.* read from another file or computed elsewhere in your code.\n",
    "\n",
    "In this case, the parameter should have the right shape: same number of frames than the trajectory, and same number of particles than the considered subset:"
   ]
  },
  {
   "cell_type": "code",
   "execution_count": 16,
   "metadata": {},
   "outputs": [
    {
     "name": "stdout",
     "output_type": "stream",
     "text": [
      "[array([0.5 , 0.25, 0.25]), array([0.6 , 0.35, 0.35])]\n",
      "[array([0.5 , 0.23, 0.34]), array([0.6 , 0.56, 0.67])]\n"
     ]
    }
   ],
   "source": [
    "# 2 frames, 3 particles (same as the trajectory)\n",
    "masses = [[0.5, 0.25, 0.25],\n",
    "          [0.6, 0.35, 0.35]]\n",
    "traj.set_property('mass', masses)\n",
    "print(traj.dump('particle.mass'))\n",
    "\n",
    "# 2 frames, 2 particles \n",
    "#  (because there are only B particles in the subset)\n",
    "masses = [[0.23, 0.34],\n",
    "          [0.56, 0.67]]\n",
    "traj.set_property('mass', masses, \"species == 'B'\")\n",
    "print(traj.dump('particle.mass'))"
   ]
  },
  {
   "cell_type": "markdown",
   "metadata": {},
   "source": [
    "The property can also be a **new** property that the particles do not have yet:"
   ]
  },
  {
   "cell_type": "code",
   "execution_count": 17,
   "metadata": {},
   "outputs": [
    {
     "name": "stdout",
     "output_type": "stream",
     "text": [
      "[array([0.5, 0.4, 0.4]), array([0.5, 0.4, 0.4])]\n"
     ]
    }
   ],
   "source": [
    "# Set a new property\n",
    "radii = [[0.5, 0.4, 0.4],\n",
    "         [0.5, 0.4, 0.4]]\n",
    "traj.set_property('radius', radii)\n",
    "print(traj.dump('particle.radius'))"
   ]
  },
  {
   "cell_type": "markdown",
   "metadata": {},
   "source": [
    "As mentioned above, it is absolutely essential that **all** particles have the property when calling the `dump` method or when applying a filter on a structural descriptor (see the **notebook #3**)."
   ]
  }
 ],
 "metadata": {
  "kernelspec": {
   "display_name": "Python 3",
   "language": "python",
   "name": "python3"
  },
  "language_info": {
   "codemirror_mode": {
    "name": "ipython",
    "version": 3
   },
   "file_extension": ".py",
   "mimetype": "text/x-python",
   "name": "python",
   "nbconvert_exporter": "python",
   "pygments_lexer": "ipython3",
   "version": "3.7.3"
  }
 },
 "nbformat": 4,
 "nbformat_minor": 2
}
