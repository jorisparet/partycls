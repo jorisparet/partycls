{
 "cells": [
  {
   "cell_type": "markdown",
   "metadata": {},
   "source": [
    "# Descriptors\n",
    "--------------------\n",
    "\n",
    "In this notebook, we will take a look at the different structural descriptors and learn how to parametrize them and add filters.\n",
    "\n",
    "## Common properties\n",
    "-----------------------------\n",
    "\n",
    "A structural descriptor $S(x)$ is a collection of $N$ individual empirical correlation functions $\\{s_i(\\vec{x})\\}$ at the particle level, defined over a grid $\\{x_j\\}$ of $M$ features. These are stored in the `features` array as a matrix usually refered to as the \"data set\":\n",
    "\n",
    "$$\n",
    "\\begin{pmatrix}\n",
    "s_0(x_0) & s_0(x_1) & ... & s_0(x_M) \\\\\n",
    "s_1(x_0) & s_1(x_1) & ... & s_1(x_M) \\\\ \n",
    "...      & ...      & ... & ... \\\\\n",
    "s_N(x_0) & s_N(x_1) & ... & s_N(x_M)\n",
    "\\end{pmatrix}\n",
    "$$\n",
    "\n",
    "The `features` array is None by default and is computed only when the `compute()` method is called.\n",
    "\n",
    "The correlations can be calculated between two arbitrary subsets of particles called \"groups\":\n",
    "- group 0 is the main group, *i.e.* particles for which the correlations are being calculated ;\n",
    "- group 1 is the secondary group, *i.e.* particles that are being considered when calculating the correlations ;\n",
    "These groups are formed by adding filters on particles' properties (species, radius, position, etc.).\n",
    "\n",
    "All descriptor classes inherit from the class `StructuralDescriptor`, thus having several common properties and attributes such as:\n",
    "* `trajectory` : a descriptor is defined for a given `Trajectory` (see **notebook #1**) ;\n",
    "* `dimension` : the spatial dimension of the descriptor. Indeed, some descriptors can only be computed for 2D or 3D trajectories ;\n",
    "* `grid` : grid over which the structural features will be computed. For instance, the values of interparticle distances $r$ (*i.e.* bins) when using a radial descriptor ;\n",
    "* `active_filters` : list of all active filters on the both groups of particles ;\n",
    "* `features` : array of all the computed structural features for particles in the main group ($i.e.$ group 0) ;\n",
    "* `size` : number of individual correlation functions $N$ ;\n",
    "* `n_features` : the number of features $M$ for the descriptor (equivalent to the length of `grid` and `features.shape[1]`) ;\n",
    "* `average` : average feature vector of the descriptor, *i.e.* $\\sum_i s_i(\\vec{x})$ ;\n",
    "\n",
    "Let us consider a pratical example by creating a structural descriptor on a trajectory file:"
   ]
  },
  {
   "cell_type": "code",
   "execution_count": 1,
   "metadata": {},
   "outputs": [],
   "source": [
    "from pysc import Trajectory\n",
    "from pysc.descriptor import StructuralDescriptor\n",
    "\n",
    "# Open a trajectory\n",
    "traj = Trajectory('../data/kalj_N150.xyz', last=20)\n",
    "\n",
    "# Create a descriptor\n",
    "D = StructuralDescriptor(traj)"
   ]
  },
  {
   "cell_type": "markdown",
   "metadata": {},
   "source": [
    "**N.B** Note that the class `StructuralDescriptor` does not perform any computation. This is only an example to show the common properties of the subclasses. Actual examples will be shown later in this notebook.\n",
    "\n",
    "By default, all particles are included in groups 0 and 1. To restrict the computation of the descriptor to a given subset, we must apply a filter with the method `add_filter`. This is done by specifying the filter with a string of the form:\n",
    "\n",
    "`\"particle.<attribute> _operator_ <value>\"`\n",
    "\n",
    "or simply\n",
    "\n",
    "`\"<attribute> _operator_ <value>\"`\n",
    "\n",
    "for common attributes. Ex. `\"species == 'A'\"`, `\"particle.radius < 0.5\"`.\n",
    "\n",
    "We must also specify the `group` over which this filter is applied.\n",
    "\n",
    "The current input trajectory file is a binary mixture of particles labeled `\"A\"` and `\"B\"`. Let us restrict the computation of the structural features to B particles only:"
   ]
  },
  {
   "cell_type": "code",
   "execution_count": 2,
   "metadata": {},
   "outputs": [
    {
     "name": "stdout",
     "output_type": "stream",
     "text": [
      "[(\"particle.species == 'B'\", 0)]\n"
     ]
    }
   ],
   "source": [
    "# Add a filter on group 0\n",
    "D.add_filter(\"species == 'B'\", group=0)\n",
    "\n",
    "# Active filters\n",
    "print(D.active_filters)"
   ]
  },
  {
   "cell_type": "markdown",
   "metadata": {},
   "source": [
    "We can cumulate filters by adding them successively (as long as there are particles left in the specified group).\n",
    "\n",
    "Now, let us make this a partial correlation by focusing the analysis on A particles:"
   ]
  },
  {
   "cell_type": "code",
   "execution_count": 3,
   "metadata": {},
   "outputs": [
    {
     "name": "stdout",
     "output_type": "stream",
     "text": [
      "[(\"particle.species == 'B'\", 0), (\"particle.species == 'A'\", 1)]\n"
     ]
    }
   ],
   "source": [
    "D.add_filter(\"species == 'A'\", group=1)\n",
    "print(D.active_filters)"
   ]
  },
  {
   "cell_type": "markdown",
   "metadata": {},
   "source": [
    "If the descriptor was describing radial correlations, this would be equivalent to computing the partial RDF between B and A particles, $g_{BA}(r)$. Filters can be removed with the methods `clear_filters` (clears all filters on the specified group) and `clear_all_filters` (clears all filters on both groups).\n",
    "\n",
    "Now, in order to actually compute the structural features, the method `compute` must be called: `D.compute()`. This will set the `features` attribute. Let us move to more practical examples with actual descriptors.\n",
    "\n",
    "## Radial descriptor\n",
    "-------------------------\n",
    "\n",
    "The class `RadialDescriptor` computes the radial correlations of a central particle with all its surrounding particles up to a given distance $R$. In practice, for a particle $i$, it computes a histogram for particles between $r$ and $r + \\mathrm{d}r$ between the specified range:"
   ]
  },
  {
   "cell_type": "code",
   "execution_count": 4,
   "metadata": {},
   "outputs": [
    {
     "name": "stdout",
     "output_type": "stream",
     "text": [
      "grid =  [0.025 0.075 0.125 0.175 0.225 0.275 0.325 0.375 0.425 0.475 0.525 0.575\n",
      " 0.625 0.675 0.725 0.775 0.825 0.875 0.925 0.975 1.025 1.075 1.125 1.175\n",
      " 1.225 1.275 1.325 1.375 1.425 1.475 1.525 1.575 1.625 1.675 1.725 1.775\n",
      " 1.825 1.875 1.925 1.975]\n",
      "radial histogram of particle #0 : [0 0 0 0 0 0 0 0 0 0 0 0 0 0 0 0 1 1 0 2 1 3 1 1 2 1 2 0 1 0 0 3 2 3 3 4 3\n",
      " 4 2 3]\n"
     ]
    }
   ],
   "source": [
    "from pysc.descriptor import RadialDescriptor\n",
    "\n",
    "# radial descriptor between r=0 and r=2 with bin size dr=0.1\n",
    "D_r = RadialDescriptor(traj, bounds=(0,2), dr=0.05)\n",
    "# compute the features (also sets D_r.features)\n",
    "X_r = D_r.compute()\n",
    "\n",
    "# grid\n",
    "print('grid = ', D_r.grid)\n",
    "# radial histogram of particle #0\n",
    "print('radial histogram of particle #0 :', X_r[0])"
   ]
  },
  {
   "cell_type": "markdown",
   "metadata": {},
   "source": [
    "The average of the descriptor is the average over all histograms:"
   ]
  },
  {
   "cell_type": "code",
   "execution_count": 14,
   "metadata": {},
   "outputs": [
    {
     "data": {
      "image/png": "[encoded data removed]",
      "text/plain": [
       "<Figure size 432x288 with 1 Axes>"
      ]
     },
     "metadata": {
      "needs_background": "light"
     },
     "output_type": "display_data"
    }
   ],
   "source": [
    "import matplotlib.pyplot as plt\n",
    "\n",
    "plt.plot(D_r.grid, D_r.average)\n",
    "plt.show()"
   ]
  },
  {
   "cell_type": "markdown",
   "metadata": {},
   "source": [
    "Note that the bounds for the grid can be set automatically through the integer parameter `n_shells` (instead of specifying `bounds` manually). This will set the upper bound automatically by counting the number of coordination shells (default value is 3).\n",
    "\n",
    "An example with a filter:"
   ]
  },
  {
   "cell_type": "code",
   "execution_count": 6,
   "metadata": {},
   "outputs": [],
   "source": [
    "# A-A correlation\n",
    "D_r_AA = RadialDescriptor(traj, bounds=(0,2), dr=0.05)\n",
    "D_r_AA.add_filter(\"species == 'A'\", 0)\n",
    "D_r_AA.add_filter(\"species == 'A'\", 1)\n",
    "_ = D_r_AA.compute()\n",
    "\n",
    "# A-B correlation\n",
    "D_r_AB = RadialDescriptor(traj, bounds=(0,2), dr=0.05)\n",
    "D_r_AB.add_filter(\"species == 'A'\", 0)\n",
    "D_r_AB.add_filter(\"species == 'B'\", 1)\n",
    "_ = D_r_AB.compute()"
   ]
  },
  {
   "cell_type": "markdown",
   "metadata": {},
   "source": [
    "Let us normalize the distributions in order to get true $g(r)$:"
   ]
  },
  {
   "cell_type": "code",
   "execution_count": 7,
   "metadata": {},
   "outputs": [
    {
     "data": {
      "image/png": "[encoded data removed]",
      "text/plain": [
       "<Figure size 432x288 with 1 Axes>"
      ]
     },
     "metadata": {
      "needs_background": "light"
     },
     "output_type": "display_data"
    }
   ],
   "source": [
    "# /!\\ normalization depends on the descriptor\n",
    "norm = D_r.normalize_gr\n",
    "norm_AA = D_r_AA.normalize_gr\n",
    "norm_AB = D_r_AB.normalize_gr\n",
    "\n",
    "# plot\n",
    "plt.plot(D_r.grid, norm(D_r.average), label='total')\n",
    "plt.plot(D_r_AA.grid, norm_AA(D_r_AA.average), label='A-A')\n",
    "plt.plot(D_r_AB.grid, norm_AB(D_r_AB.average), label='A-B')\n",
    "plt.legend(frameon=False)\n",
    "plt.show()"
   ]
  },
  {
   "cell_type": "markdown",
   "metadata": {},
   "source": [
    "## Bond angle descriptor\n",
    "-------------------------------\n",
    "\n",
    "Similarly, the class `BondAngleDescriptor` counts the number of particles $(j,k)$ around a central particle $i$ such that the angle $\\widehat{jik}$ is in the range $[\\theta, \\theta + \\mathrm{d} \\theta$]. Particles $j$ and $k$ must be in the first coordination shell of particle particle $i$.\n",
    "\n",
    "This class inherits from a class `AngularStructuralDescriptor` (that inherits from `StructuralDescriptor`). It has several additional attributes:\n",
    "\n",
    "* `nearest_neighbors_method` : must be `\"FC\"` (fixed cutoff) or `\"SANN\"` (solid angle based nearest-neighbors). See the documentation for more details ;\n",
    "* `cutoffs` : cutoffs can be set manually when using `nearest_neighbors_method = \"FC\"`, or through the method `set_cutoff`. If not specified, they are computed automatically ;\n",
    "* `neighbors` : list of nearest neighbors for each particle (in group 0). This is set once the method `nearest_neighbors` has been called ;"
   ]
  },
  {
   "cell_type": "code",
   "execution_count": 8,
   "metadata": {},
   "outputs": [
    {
     "name": "stdout",
     "output_type": "stream",
     "text": [
      "all pairs of species : [('A', 'A'), ('A', 'B'), ('B', 'A'), ('B', 'B')]\n",
      "associated cutoffs : [1.4500000000000004, 1.2500000000000002, 1.2500000000000002, 1.9500000000000004]\n",
      "\n",
      "grid =  [  2.   6.  10.  14.  18.  22.  26.  30.  34.  38.  42.  46.  50.  54.\n",
      "  58.  62.  66.  70.  74.  78.  82.  86.  90.  94.  98. 102. 106. 110.\n",
      " 114. 118. 122. 126. 130. 134. 138. 142. 146. 150. 154. 158. 162. 166.\n",
      " 170. 174. 178.]\n",
      "radial histogram of particle #0 : [ 0  0  0  0  0  0  0  0  0  0  2 12 10 16 16  0 12  6  4  4  0 10 10  4\n",
      "  4  6 12 20  8  8  0  6  4  4  0  8  4  4  6  6  2  2  0  0  0]\n",
      "neighbors of particle #0 : [ 16  37  39  56  63  69  75  89  90  96  98 101 113 123 144]\n"
     ]
    }
   ],
   "source": [
    "from pysc.descriptor import BondAngleDescriptor\n",
    "\n",
    "# bond angle descriptor with bin size dtheta=2 (in degrees)\n",
    "D_ba = BondAngleDescriptor(traj, dtheta=4.0)\n",
    "# compute the features\n",
    "X_ba = D_ba.compute()\n",
    "\n",
    "# cutoffs used to find neighbors\n",
    "print('all pairs of species :', traj[0].pairs_of_species)\n",
    "print('associated cutoffs :', D_ba.cutoffs)\n",
    "\n",
    "# grid (from 0 to 180 deg.)\n",
    "print('\\ngrid = ', D_ba.grid)\n",
    "# bond angles histogram of particle #0\n",
    "print('radial histogram of particle #0 :', X_ba[0])\n",
    "# neighbors of particles #0\n",
    "print('neighbors of particle #0 :', D_ba.neighbors[0][0])"
   ]
  },
  {
   "cell_type": "markdown",
   "metadata": {},
   "source": [
    "Average of the descriptor:"
   ]
  },
  {
   "cell_type": "code",
   "execution_count": 9,
   "metadata": {},
   "outputs": [
    {
     "data": {
      "image/png": "[encoded data removed]",
      "text/plain": [
       "<Figure size 432x288 with 1 Axes>"
      ]
     },
     "metadata": {
      "needs_background": "light"
     },
     "output_type": "display_data"
    }
   ],
   "source": [
    "plt.plot(D_ba.grid, D_ba.average)\n",
    "plt.show()"
   ]
  },
  {
   "cell_type": "markdown",
   "metadata": {},
   "source": [
    "## Bond orientational parameters\n",
    "------------------------------------------\n",
    "\n",
    "The class `BondOrientationalDescriptor` computes bond orientational parameters $q_l$ (see [Steinhardt et al.](http://doi.org/10.1103/PhysRevB.28.784)) around particle $i$ surrounded by nearest neighbors $\\{j\\}$.\n",
    "\n",
    "This class also inherits from the class `AngularStructuralDescriptor` (see the section **Bond angle descriptor** or the documentation for more details).\n",
    "\n",
    "The minimal and maximal orders of $l$ must be specified through the parameters `lmin` and `lmax`. Otherwise, specific values of $l$ can be computed by using the list parameter `orders`:"
   ]
  },
  {
   "cell_type": "code",
   "execution_count": 10,
   "metadata": {},
   "outputs": [
    {
     "name": "stdout",
     "output_type": "stream",
     "text": [
      "range of values for l : [1 2 3 4 5 6 7 8]\n",
      "specific values of l : [4 6]\n"
     ]
    }
   ],
   "source": [
    "from pysc.descriptor import BondOrientationalDescriptor\n",
    "\n",
    "# BOP descriptor\n",
    "D_bo = BondOrientationalDescriptor(traj, lmin=1, lmax=8)\n",
    "print('range of values for l :', D_bo.grid)\n",
    "\n",
    "# compute specific values instead\n",
    "D_bo.orders = [4,6]\n",
    "print('specific values of l :', D_bo.grid)\n",
    "\n",
    "# change nearest neighbors method and compute\n",
    "D_bo.nearest_neighbors_method = 'SANN'\n",
    "X_bo = D_bo.compute()"
   ]
  },
  {
   "cell_type": "markdown",
   "metadata": {},
   "source": [
    "Distributions of $q_4$ and $q_6$:"
   ]
  },
  {
   "cell_type": "code",
   "execution_count": 11,
   "metadata": {},
   "outputs": [
    {
     "data": {
      "image/png": "[encoded data removed]",
      "text/plain": [
       "<Figure size 432x288 with 1 Axes>"
      ]
     },
     "metadata": {
      "needs_background": "light"
     },
     "output_type": "display_data"
    },
    {
     "data": {
      "image/png": "[encoded data removed]",
      "text/plain": [
       "<Figure size 432x288 with 1 Axes>"
      ]
     },
     "metadata": {
      "needs_background": "light"
     },
     "output_type": "display_data"
    }
   ],
   "source": [
    "# q_4 (/!\\ FIRST element of the grid)\n",
    "plt.figure(1)\n",
    "plt.hist(X_bo[:,0], ec='k', bins=20, density=True)\n",
    "plt.title(r'$q_4$')\n",
    "plt.show()\n",
    "\n",
    "# q_6 (/!\\ SECOND element of the grid)\n",
    "plt.figure(1)\n",
    "plt.hist(X_bo[:,1], ec='k', bins=20, density=True)\n",
    "plt.title(r'$q_6$')\n",
    "plt.show()"
   ]
  },
  {
   "cell_type": "markdown",
   "metadata": {},
   "source": [
    "## Lechner-Dellago bond orientational parameters\n",
    "\n",
    "The class `LechnerDellagoDescriptor` computes a variant $\\bar{q}_l$ (as introduced by [Lechner & Dellago](http://doi.org/10.1063/1.2977970)) of the previously mentioned bond orientational parameters, $q_l$. This class inherits from `BondOrientationalDescriptor` and thus has the same parameters and attributes.\n",
    "\n",
    "Note that this descriptor is more computationally expensive than its parent class."
   ]
  },
  {
   "cell_type": "code",
   "execution_count": 12,
   "metadata": {},
   "outputs": [
    {
     "name": "stdout",
     "output_type": "stream",
     "text": [
      "grid of l : [4 6]\n"
     ]
    }
   ],
   "source": [
    "from pysc.descriptor import LechnerDellagoDescriptor\n",
    "\n",
    "# Lechner-Dellago descriptor\n",
    "D_ld = LechnerDellagoDescriptor(traj, orders=[4,6])\n",
    "# compute specific of values of l\n",
    "print('grid of l :', D_ld.grid)\n",
    "\n",
    "# manually set cutoffs and compute\n",
    "D_ld.cutoffs = [1.45, 1.25, 1.25, 1.075]\n",
    "X_ld = D_ld.compute()"
   ]
  },
  {
   "cell_type": "code",
   "execution_count": 13,
   "metadata": {},
   "outputs": [
    {
     "data": {
      "image/png": "[encoded data removed]",
      "text/plain": [
       "<Figure size 432x288 with 1 Axes>"
      ]
     },
     "metadata": {
      "needs_background": "light"
     },
     "output_type": "display_data"
    },
    {
     "data": {
      "image/png": "[encoded data removed]",
      "text/plain": [
       "<Figure size 432x288 with 1 Axes>"
      ]
     },
     "metadata": {
      "needs_background": "light"
     },
     "output_type": "display_data"
    }
   ],
   "source": [
    "# q_4 (/!\\ FIRST element of the grid)\n",
    "plt.figure(1)\n",
    "plt.hist(X_ld[:,0], ec='k', bins=20, density=True)\n",
    "plt.title(r'$\\bar{q}_4$')\n",
    "plt.show()\n",
    "\n",
    "# q_6 (/!\\ SECOND element of the grid)\n",
    "plt.figure(1)\n",
    "plt.hist(X_ld[:,1], ec='k', bins=20, density=True)\n",
    "plt.title(r'$\\bar{q}_6$')\n",
    "plt.show()"
   ]
  }
 ],
 "metadata": {
  "kernelspec": {
   "display_name": "Python 3",
   "language": "python",
   "name": "python3"
  },
  "language_info": {
   "codemirror_mode": {
    "name": "ipython",
    "version": 3
   },
   "file_extension": ".py",
   "mimetype": "text/x-python",
   "name": "python",
   "nbconvert_exporter": "python",
   "pygments_lexer": "ipython3",
   "version": "3.7.3"
  }
 },
 "nbformat": 4,
 "nbformat_minor": 2
}
